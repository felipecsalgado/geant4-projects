{
 "cells": [
  {
   "cell_type": "code",
   "execution_count": 1,
   "metadata": {},
   "outputs": [
    {
     "name": "stdout",
     "output_type": "stream",
     "text": [
      "2.7.12\n"
     ]
    }
   ],
   "source": [
    "# Check Python Kernel version\n",
    "# If you run a ROOT binary file fromthe CERN website, it was compile for Python 2\n",
    "from platform import python_version\n",
    "print(python_version())"
   ]
  },
  {
   "cell_type": "code",
   "execution_count": 2,
   "metadata": {},
   "outputs": [],
   "source": [
    "import numpy as np\n",
    "import matplotlib.pyplot as plt\n",
    "from scipy.optimize import curve_fit"
   ]
  },
  {
   "cell_type": "code",
   "execution_count": 3,
   "metadata": {},
   "outputs": [
    {
     "name": "stdout",
     "output_type": "stream",
     "text": [
      "Welcome to JupyROOT 6.18/00\n"
     ]
    }
   ],
   "source": [
    "# Import PyROOT\n",
    "import ROOT"
   ]
  },
  {
   "cell_type": "markdown",
   "metadata": {},
   "source": [
    "## Openning ROOT file and Loading the Histograms\n",
    "\n",
    "For more commands and examples, please refer to the [CERN Manual - Chapter Histograms](https://root.cern.ch/root/htmldoc/guides/users-guide/Histograms.html)."
   ]
  },
  {
   "cell_type": "code",
   "execution_count": 4,
   "metadata": {},
   "outputs": [],
   "source": [
    "# Load ROOT files\n",
    "histFile_2GeV = ROOT.TFile.Open(\"../Energy Deposition/edep-build/run01_2GeV.root\", \"READ\")\n",
    "histFile_8GeV = ROOT.TFile.Open(\"../Energy Deposition/edep-build/run02_8GeV.root\", \"READ\")"
   ]
  },
  {
   "cell_type": "code",
   "execution_count": 5,
   "metadata": {},
   "outputs": [
    {
     "name": "stdout",
     "output_type": "stream",
     "text": [
      "Histogram loaded\n",
      "Histogram loaded\n"
     ]
    }
   ],
   "source": [
    "# Open the Histogram\n",
    "\n",
    "# https://root.cern.ch/doc/master/classTH1.html#a9b9fc72d52be07372979ab74d1365fcf\n",
    "hist2GeV = histFile_2GeV.Get(\"11\")\n",
    "hist8GeV = histFile_8GeV.Get(\"11\")\n",
    "\n",
    "## Check if histogram exists\n",
    "if not hist2GeV:\n",
    "    print (\"Failed  to get histogram 2GeV\")\n",
    "else:\n",
    "    print('Histogram loaded')\n",
    "#\n",
    "## Check if histogram exists\n",
    "if not hist8GeV:\n",
    "    print (\"Failed  to get histogram 8GeV\")\n",
    "else:\n",
    "    print('Histogram loaded')"
   ]
  },
  {
   "cell_type": "markdown",
   "metadata": {},
   "source": [
    "## Plot Histograms"
   ]
  },
  {
   "cell_type": "code",
   "execution_count": 6,
   "metadata": {},
   "outputs": [],
   "source": [
    "# Open an empty canvas\n",
    "c1 = ROOT.TCanvas('c1', 'Canvas Title')"
   ]
  },
  {
   "cell_type": "code",
   "execution_count": 7,
   "metadata": {},
   "outputs": [],
   "source": [
    "hist2GeV.Draw()\n",
    "#\n",
    "hist2GeV.SetLineColor(ROOT.kBlue)\n",
    "hist2GeV.SetLineStyle(1)\n",
    "hist2GeV.SetStats(False)"
   ]
  },
  {
   "cell_type": "code",
   "execution_count": 8,
   "metadata": {},
   "outputs": [],
   "source": [
    "hist8GeV.Draw(\"same\")\n",
    "#\n",
    "hist8GeV.SetLineColor(ROOT.kRed)\n",
    "hist8GeV.SetLineStyle(1)\n",
    "#\n",
    "hist8GeV.SetStats(False)"
   ]
  },
  {
   "cell_type": "code",
   "execution_count": 9,
   "metadata": {},
   "outputs": [],
   "source": [
    "hist2GeV.SetTitle(\"Longitudinal Energy Deposited Profile\")\n",
    "#\n",
    "# Need to discover how to scale x-axis from histograms\n",
    "#\n",
    "hist2GeV.GetXaxis().SetTitle(\"Crystal length [x0.5 cm]\")\n",
    "hist2GeV.GetXaxis().CenterTitle(True) # Center the x-axis\n",
    "hist2GeV.GetYaxis().SetTitle(\"Events\")\n",
    "hist2GeV.GetYaxis().CenterTitle(True) # Center the y-axis\n",
    "#\n",
    "hist2GeV.SetAxisRange(0., 200.,\"X\")\n",
    "hist2GeV.SetAxisRange(0., 140.,\"Y\")"
   ]
  },
  {
   "cell_type": "code",
   "execution_count": 10,
   "metadata": {},
   "outputs": [],
   "source": [
    "# Add legend to the graph\n",
    "#\n",
    "# The argument sets the position and size of the legend\n",
    "# TLegend(xmin, ymin, xmax, ymax)\n",
    "legend = ROOT.TLegend(0.6, 0.7, 0.87, 0.85)\n",
    "#\n",
    "# Add entries\n",
    "legend.AddEntry(hist2GeV, \"2 GeV Electron\", \"l\")\n",
    "legend.AddEntry(hist8GeV, \"8 GeV Electron\", \"l\")\n",
    "#\n",
    "legend.SetTextFont(42) # Set the font of the legend text\n",
    "legend.SetTextSize(0.045) # Set the size of the legend text\n",
    "legend.Draw()"
   ]
  },
  {
   "cell_type": "code",
   "execution_count": 11,
   "metadata": {},
   "outputs": [
    {
     "data": {
      "image/png": "[encoded data removed]",
      "text/plain": [
       "<IPython.core.display.Image object>"
      ]
     },
     "metadata": {},
     "output_type": "display_data"
    }
   ],
   "source": [
    "# To exhibit the canvas in the notebook, you need to draw it\n",
    "c1.Draw()"
   ]
  },
  {
   "cell_type": "code",
   "execution_count": 12,
   "metadata": {},
   "outputs": [],
   "source": [
    "#To save the canvas, update it and use the command SaveAs...\n",
    "# c1.Update()\n",
    "# c1.SaveAs('Longitudinal_Edep_profile.pdf')"
   ]
  },
  {
   "cell_type": "markdown",
   "metadata": {},
   "source": [
    "# Get Stats from the histograms"
   ]
  },
  {
   "cell_type": "code",
   "execution_count": 13,
   "metadata": {},
   "outputs": [
    {
     "name": "stdout",
     "output_type": "stream",
     "text": [
      "Stats for 2 GeV electron\n",
      "Mean = 32.413\n",
      "RMS = 17.405\n",
      "Number of Entries = 31801325.000\n"
     ]
    }
   ],
   "source": [
    "# To get the data from the Statistics provided by the histrogram, use the Get commands...\n",
    "print(\"Stats for 2 GeV electron\")\n",
    "print(\"Mean = %.3f\"%(hist2GeV.GetMean()))\n",
    "print(\"RMS = %.3f\"%(hist2GeV.GetRMS()))\n",
    "print(\"Number of Entries = %.3f\"%(hist2GeV.GetEntries()))"
   ]
  },
  {
   "cell_type": "code",
   "execution_count": 14,
   "metadata": {},
   "outputs": [
    {
     "name": "stdout",
     "output_type": "stream",
     "text": [
      "Stats for 2 GeV electron\n",
      "Mean = 40.944\n",
      "RMS = 19.983\n",
      "Number of Entries = 126826139.000\n"
     ]
    }
   ],
   "source": [
    "print(\"Stats for 2 GeV electron\")\n",
    "print(\"Mean = %.3f\"%(hist8GeV.GetMean()))\n",
    "print(\"RMS = %.3f\"%(hist8GeV.GetRMS()))\n",
    "print(\"Number of Entries = %.3f\"%(hist8GeV.GetEntries()))"
   ]
  },
  {
   "cell_type": "markdown",
   "metadata": {},
   "source": [
    "# Close Histograms and ROOT files"
   ]
  },
  {
   "cell_type": "code",
   "execution_count": 15,
   "metadata": {},
   "outputs": [],
   "source": [
    "# Don't forget to close the histogram\n",
    "hist2GeV.SetDirectory(0)\n",
    "histFile_2GeV.Close()\n",
    "#\n",
    "hist8GeV.SetDirectory(0)\n",
    "histFile_8GeV.Close()"
   ]
  },
  {
   "cell_type": "code",
   "execution_count": null,
   "metadata": {},
   "outputs": [],
   "source": []
  }
 ],
 "metadata": {
  "kernelspec": {
   "display_name": "Python 2",
   "language": "python",
   "name": "python2"
  },
  "language_info": {
   "codemirror_mode": {
    "name": "ipython",
    "version": 2
   },
   "file_extension": ".py",
   "mimetype": "text/x-python",
   "name": "python",
   "nbconvert_exporter": "python",
   "pygments_lexer": "ipython2",
   "version": "2.7.12"
  }
 },
 "nbformat": 4,
 "nbformat_minor": 2
}
