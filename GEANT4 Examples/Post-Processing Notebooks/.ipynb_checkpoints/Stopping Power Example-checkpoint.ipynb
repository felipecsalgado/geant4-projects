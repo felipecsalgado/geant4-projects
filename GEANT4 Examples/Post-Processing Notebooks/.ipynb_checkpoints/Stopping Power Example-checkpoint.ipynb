{
 "cells": [
  {
   "cell_type": "code",
   "execution_count": 1,
   "metadata": {},
   "outputs": [
    {
     "name": "stdout",
     "output_type": "stream",
     "text": [
      "2.7.12\n"
     ]
    }
   ],
   "source": [
    "# Check Python Kernel version\n",
    "# If you run a ROOT binary file fromthe CERN website, it was compile for Python 2\n",
    "from platform import python_version\n",
    "print(python_version())"
   ]
  },
  {
   "cell_type": "code",
   "execution_count": 2,
   "metadata": {},
   "outputs": [],
   "source": [
    "import numpy as np\n",
    "import matplotlib.pyplot as plt\n",
    "from scipy.optimize import curve_fit"
   ]
  },
  {
   "cell_type": "code",
   "execution_count": 3,
   "metadata": {},
   "outputs": [
    {
     "name": "stdout",
     "output_type": "stream",
     "text": [
      "Welcome to JupyROOT 6.18/00\n"
     ]
    }
   ],
   "source": [
    "# Import PyROOT\n",
    "# import ROOT"
   ]
  },
  {
   "cell_type": "markdown",
   "metadata": {},
   "source": [
    "This example does not output any root file. It just calculates the stopping power of the define material and displays it in the terminal. Alternatively, its output can be automatically saved into an `.txt` file for later be analyzed.\n",
    "\n",
    "In our case, the we run the application saving the output text into the file `electron.txt`:\n",
    "\n",
    "```console\n",
    "./StoppingPower electron.mac > electro.txt\n",
    "```"
   ]
  },
  {
   "cell_type": "markdown",
   "metadata": {},
   "source": [
    "## Opening the text output file"
   ]
  },
  {
   "cell_type": "code",
   "execution_count": 3,
   "metadata": {},
   "outputs": [],
   "source": [
    "filename = '../Stopping Power/stpower-build/electron.txt'"
   ]
  },
  {
   "cell_type": "markdown",
   "metadata": {},
   "source": [
    "## Search for the Calculated stopping power and prints it"
   ]
  },
  {
   "cell_type": "code",
   "execution_count": 74,
   "metadata": {},
   "outputs": [
    {
     "name": "stdout",
     "output_type": "stream",
     "text": [
      "found at line: 795\n",
      "Stopping power found at line: 808\n"
     ]
    }
   ],
   "source": [
    "lookup = 'processes :'\n",
    "lookup_stopping_power = 'unrestricted dE/dx'\n",
    "numline = 1\n",
    "numline_stopping_power = 1\n",
    "with open(filename) as myFile:\n",
    "    for num, line in enumerate(myFile, 1):\n",
    "        if lookup in line:\n",
    "            print 'found at line:', num\n",
    "            numline = num\n",
    "        elif lookup_stopping_power in line:\n",
    "            print 'Stopping power found at line:', num\n",
    "            numline_stopping_power = num"
   ]
  },
  {
   "cell_type": "code",
   "execution_count": 75,
   "metadata": {},
   "outputs": [
    {
     "name": "stdout",
     "output_type": "stream",
     "text": [
      "Stopping Power = 1.938 MeV/g/cm2\n"
     ]
    }
   ],
   "source": [
    "# Print the Stopping power\n",
    "fp = open(filename)\n",
    "lines=fp.readlines()\n",
    "fp.close()\n",
    "#\n",
    "stopping_power_MeV_g_cm2 = float(lines[numline_stopping_power].split()[2])\n",
    "#\n",
    "print('Stopping Power = %.3f MeV/g/cm2'%stopping_power_MeV_g_cm2)"
   ]
  },
  {
   "cell_type": "markdown",
   "metadata": {},
   "source": [
    "If we compare the stoppig power calculated by GEANT and with the value provided by the NIST E-Star database, we see no significant difference. \n",
    "\n",
    "Note that in the simulation we used 2 GeV electrons.\n",
    "\n",
    "![NIST E-Star stopping power for F2 Lead Glass](figures/F2-Glass-ESTAR.png)"
   ]
  },
  {
   "cell_type": "code",
   "execution_count": null,
   "metadata": {},
   "outputs": [],
   "source": []
  },
  {
   "cell_type": "code",
   "execution_count": 76,
   "metadata": {},
   "outputs": [
    {
     "name": "stdout",
     "output_type": "stream",
     "text": [
      "  processes :                \t        eIoni\t\t        eBrem\t\t    ePairProd\t\t  CoulombScat\t\t        total\n",
      "\n",
      "  compCrossSectionPerVolume : \t            0 cm^-1\t            0 cm^-1\t            0 cm^-1\t   0.00389057 cm^-1\t   0.00389057 cm^-1\n",
      "  cross section per volume : \t            0 cm^-1\t            0 cm^-1\t  2.33398e-16 cm^-1\t   0.00389057 cm^-1\t   0.00389057 cm^-1\n",
      "  cross section per mass   : \t            0 um2/mg\t            0 um2/mg\t  6.46531e-12 um2/mg\t      107.772 um2/mg\t      107.772 um2/mg\n",
      "\n",
      "  mean free path           : \t 5.82593e+288 pc \t 5.82593e+288 pc \t  4.28453e+10 km \t      2.57032 m  \t      2.57032 m\n",
      "        (g/cm2)            : \t 2.88022e+285 kg/cm2\t 2.88022e+285 kg/cm2\t  1.54672e+13 kg/cm2\t      927.886 g/cm2 \t      927.886 g/cm2\n",
      "\n",
      "\n",
      "  restricted dE/dx         : \t      6.99475 MeV/cm\t      641.452 MeV/cm\t      884.086 keV/cm\t            0 eV/cm \t      649.331 MeV/cm\n",
      "      (MeV/g/cm2)          : \t       1.9376 MeV*cm2/g\t      177.688 MeV*cm2/g\t      244.899 keV*cm2/g\t            0  eV*cm2/g\t       179.87 MeV*cm2/g\n",
      "\n",
      "  unrestricted dE/dx       : \t      6.99475 MeV/cm\t      641.452 MeV/cm\t      884.086 keV/cm\t            0 eV/cm \t      649.331 MeV/cm\n",
      "      (MeV/g/cm2)          : \t       1.9376 MeV*cm2/g\t      177.688 MeV*cm2/g\t      244.899 keV*cm2/g\t            0  eV*cm2/g\t       179.87 MeV*cm2/g\n",
      "\n",
      "  range from restrict dE/dx: \t 15.7448 cm  ( 56.8386 g/cm2 )\n",
      "\n",
      "  transport mean free path : \t 554.975 m   ( 200.346 kg/cm2)\n",
      "\n"
     ]
    }
   ],
   "source": [
    "# Print all results for the selected Material\n",
    "fp = open(filename)\n",
    "lines=fp.readlines()\n",
    "fp.close()\n",
    "#\n",
    "for i in range(numline-1, numline-1+20):\n",
    "    print(lines[i].rstrip())\n"
   ]
  }
 ],
 "metadata": {
  "kernelspec": {
   "display_name": "Python 2",
   "language": "python",
   "name": "python2"
  },
  "language_info": {
   "codemirror_mode": {
    "name": "ipython",
    "version": 2
   },
   "file_extension": ".py",
   "mimetype": "text/x-python",
   "name": "python",
   "nbconvert_exporter": "python",
   "pygments_lexer": "ipython2",
   "version": "2.7.12"
  }
 },
 "nbformat": 4,
 "nbformat_minor": 2
}
